{
 "cells": [
  {
   "cell_type": "code",
   "execution_count": 1,
   "metadata": {},
   "outputs": [
    {
     "name": "stderr",
     "output_type": "stream",
     "text": [
      "Using TensorFlow backend.\n"
     ]
    }
   ],
   "source": [
    "import os\n",
    "from extract_face import extract_face\n",
    "import shutil\n",
    "import piexif\n",
    "import keras\n",
    "import numpy as np\n",
    "from keras.applications import vgg16\n",
    "from keras.preprocessing.image import load_img\n",
    "from keras.preprocessing.image import img_to_array\n",
    "from keras.applications.imagenet_utils import decode_predictions\n",
    "import matplotlib.pyplot as plt\n",
    "%matplotlib inline\n",
    "\n",
    "from keras.layers import Input, Lambda, Dense, Flatten\n",
    "from keras.models import Model\n",
    "from keras.applications.vgg16 import VGG16\n",
    "from keras.applications.vgg16 import preprocess_input\n",
    "from keras.preprocessing import image\n",
    "from keras.preprocessing.image import ImageDataGenerator\n",
    "from keras.models import Sequential\n",
    "\n",
    "from glob import glob\n",
    "from keras.models import load_model\n",
    "import pandas as pd\n",
    "\n"
   ]
  },
  {
   "cell_type": "markdown",
   "metadata": {},
   "source": [
    "<h3>Load the trained VGG model and predict general classes from there</h3>"
   ]
  },
  {
   "cell_type": "markdown",
   "metadata": {},
   "source": [
    "<h3> Define a global list which contains keyword/tags to be appended at final to each image file</h3>"
   ]
  },
  {
   "cell_type": "code",
   "execution_count": 2,
   "metadata": {},
   "outputs": [],
   "source": [
    "# global tag holder\n",
    "tag=[]\n"
   ]
  },
  {
   "cell_type": "code",
   "execution_count": null,
   "metadata": {},
   "outputs": [
    {
     "name": "stdout",
     "output_type": "stream",
     "text": [
      "WARNING:tensorflow:From C:\\Users\\Mayank\\Anaconda3\\lib\\site-packages\\tensorflow\\python\\framework\\op_def_library.py:263: colocate_with (from tensorflow.python.framework.ops) is deprecated and will be removed in a future version.\n",
      "Instructions for updating:\n",
      "Colocations handled automatically by placer.\n"
     ]
    }
   ],
   "source": [
    "\n",
    "#load vgg model\n",
    "vgg_model = vgg16.VGG16(weights='imagenet')\n",
    "\n",
    "#do vgg prediction\n",
    "def predict_label(filename):\n",
    "    original_image = load_img(filename, target_size=(224, 224))\n",
    "    numpy_image = img_to_array(original_image)\n",
    "    input_image = np.expand_dims(numpy_image, axis=0)\n",
    "    processed_image_vgg16 = vgg16.preprocess_input(input_image.copy())\n",
    "    predictions_vgg16 = vgg_model.predict(processed_image_vgg16)\n",
    "    label_vgg16 = decode_predictions(predictions_vgg16)\n",
    "    label=label_vgg16[0][0][1]\n",
    "    return label_vgg16\n",
    "#convert tuple to dictionary\n",
    "def Convert(tup, di): \n",
    "    for a, b,c in tup: \n",
    "        di.setdefault(b, []).append(c) \n",
    "    return di \n",
    "\n",
    "\n",
    "def predict_vgg_label(filename):\n",
    "    label=predict_label(filename)\n",
    "    di={}\n",
    "    Convert(label[0],di)\n",
    "    l=[]\n",
    "    for (key,value) in di.items():\n",
    "        #if prob. greater than 0.3 than append to list and return\n",
    "        if value[0] > 0.30:\n",
    "            l.append(key)\n",
    "    #if list is empty, return        \n",
    "    if not l:\n",
    "            return\n",
    "    #else return list of labels    \n",
    "    return l"
   ]
  },
  {
   "cell_type": "markdown",
   "metadata": {},
   "source": [
    "<h2>Set working temp path directory</h2>"
   ]
  },
  {
   "cell_type": "code",
   "execution_count": null,
   "metadata": {},
   "outputs": [],
   "source": [
    "working_temp_path=r\"C:\\Users\\Mayank\\Desktop\\Photos\\Working_temp\"\n",
    "#working_temp path directory is used for temporary calcualtions to avoid messing in the real photos directory\n"
   ]
  },
  {
   "cell_type": "code",
   "execution_count": null,
   "metadata": {},
   "outputs": [],
   "source": [
    "def face_generate(img_path):\n",
    "    os.chdir(working_temp_path)\n",
    "    extract_face(image_path=img_path)"
   ]
  },
  {
   "cell_type": "code",
   "execution_count": null,
   "metadata": {},
   "outputs": [],
   "source": [
    "models = load_model('facefeatures_new_model.h5')\n",
    "models.compile(loss='binary_crossentropy',\n",
    "              optimizer='rmsprop',\n",
    "              metrics=['accuracy'])\n",
    "def keras_model_predictions(img_path):\n",
    "    \n",
    "    img = image.load_img(img_path, target_size=(224, 224))\n",
    "    x = image.img_to_array(img)\n",
    "    x = np.expand_dims(x, axis=0)\n",
    "\n",
    "    images = np.vstack([x])\n",
    "    classes = models.predict(images, batch_size=1)\n",
    "    index_max = np.argmax(classes)\n",
    "    if index_max == 0:\n",
    "        return \"manoj\"\n",
    "    if index_max == 1:\n",
    "        return \"mayank\"\n",
    "    if index_max == 2:\n",
    "        return \"megha\"\n",
    "    if index_max == 3:\n",
    "        return \"noise\"\n",
    "    if index_max == 4:        \n",
    "        return \"priti\"\n",
    "    if index_max == 5:\n",
    "        return \"unknown_face\"\n",
    "        \n",
    "        \n",
    "    "
   ]
  },
  {
   "cell_type": "code",
   "execution_count": null,
   "metadata": {
    "scrolled": true
   },
   "outputs": [],
   "source": [
    "def get_date(img_path):\n",
    "    exif_dict = piexif.load(img_path)\n",
    "    for ifd in (\"0th\", \"Exif\"):\n",
    "        for tag in exif_dict[ifd]:\n",
    "            if (piexif.TAGS[ifd][tag][\"name\"]) == \"DateTime\":\n",
    "                return (exif_dict[ifd][tag])"
   ]
  },
  {
   "cell_type": "code",
   "execution_count": null,
   "metadata": {},
   "outputs": [],
   "source": []
  },
  {
   "cell_type": "code",
   "execution_count": null,
   "metadata": {},
   "outputs": [],
   "source": [
    "def do_pred (img_path,filename):\n",
    "    shutil.copy(img_path,working_temp_path)\n",
    "    cwd=os.getcwd()\n",
    "    os.chdir(working_temp_path)\n",
    "    for file in os.listdir(working_temp_path):\n",
    "        try:\n",
    "            face_generate(file)\n",
    "        except:\n",
    "            print(\"Eroor\")\n",
    "        \n",
    "    image_labels=[]\n",
    "    image_labels.append(img_path)\n",
    "    image_labels.append(get_date(img_path))\n",
    "    image_labels.append(filename)\n",
    "    for file in os.listdir(working_temp_path):\n",
    "        #if file.endswith(\".jpg\"):\n",
    "        img_size=os.path.getsize(file)\n",
    "        if img_size < 15360:\n",
    "            os.remove(file)\n",
    "            continue\n",
    "        if (img_size >=15360) and (img_size< 1048500 ):\n",
    "            image_labels.append(keras_model_predictions(file))\n",
    "            os.remove(file)\n",
    "            continue\n",
    "        if (img_size >=1048500):\n",
    "            lis=predict_vgg_label(file)\n",
    "            if not lis:\n",
    "                image_labels.append(\"NULL\")\n",
    "            else:\n",
    "                image_labels.append(lis)\n",
    "            os.remove(file)\n",
    "            \n",
    "    \n",
    "    \n",
    "    os.chdir(cwd)\n",
    "    return(image_labels)\n",
    "            \n",
    "        \n",
    "        \n",
    "    \n",
    "    \n"
   ]
  },
  {
   "cell_type": "code",
   "execution_count": null,
   "metadata": {
    "scrolled": true
   },
   "outputs": [],
   "source": [
    "root_dir=r\"C:\\Users\\Mayank\\Desktop\\Photos\\photos\"\n",
    "#os.chdir(root_dir)\n",
    "for root, dirs, files in os.walk(root_dir):\n",
    "    for file in files:\n",
    "        if file.endswith(\".jpg\"):\n",
    "            x=do_pred(root+\"\\\\\"+file,file)\n",
    "            print(x)\n",
    "            tag.append(x)\n",
    "#             try:\n",
    "                \n",
    "#             except:\n",
    "#                 print(\"error\")"
   ]
  },
  {
   "cell_type": "code",
   "execution_count": null,
   "metadata": {},
   "outputs": [],
   "source": [
    "\n",
    "res = [[ele for ele in sub if ele != \"NULL\"] for sub in tag]\n",
    "\n",
    "df = pd.DataFrame (res)\n",
    "df.to_csv('meta_tags.csv', index = False)"
   ]
  },
  {
   "cell_type": "code",
   "execution_count": null,
   "metadata": {
    "scrolled": true
   },
   "outputs": [],
   "source": []
  },
  {
   "cell_type": "code",
   "execution_count": null,
   "metadata": {},
   "outputs": [],
   "source": [
    "def query(l):\n",
    "    copy_img_to_path=r\"C:\\Users\\Mayank\\Desktop\\Final_DIGI\\get_photo\"\n",
    "    n=len(l)\n",
    "    print(n)\n",
    "    df=pd.read_csv(\"meta_tags.csv\")\n",
    "    for x in l:\n",
    "        print(x)\n",
    "        i=str(x)\n",
    "        df=df[df.apply(lambda r: r.str.contains(i,case=False).any(),axis=1 )]\n",
    "    #print(df)\n",
    "    s = df[df.columns[0]]\n",
    "    s=s.tolist()\n",
    "    for x in s:\n",
    "         shutil.copy(x,copy_img_to_path)\n",
    "\n"
   ]
  },
  {
   "cell_type": "code",
   "execution_count": null,
   "metadata": {},
   "outputs": [],
   "source": [
    "lis=['megha']\n",
    "query(lis)"
   ]
  },
  {
   "cell_type": "code",
   "execution_count": null,
   "metadata": {},
   "outputs": [],
   "source": []
  }
 ],
 "metadata": {
  "kernelspec": {
   "display_name": "Python 3",
   "language": "python",
   "name": "python3"
  },
  "language_info": {
   "codemirror_mode": {
    "name": "ipython",
    "version": 3
   },
   "file_extension": ".py",
   "mimetype": "text/x-python",
   "name": "python",
   "nbconvert_exporter": "python",
   "pygments_lexer": "ipython3",
   "version": "3.7.3"
  }
 },
 "nbformat": 4,
 "nbformat_minor": 2
}
